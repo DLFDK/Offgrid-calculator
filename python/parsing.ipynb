{
 "cells": [
  {
   "cell_type": "code",
   "execution_count": 102,
   "metadata": {},
   "outputs": [],
   "source": [
    "import pandas as pd"
   ]
  },
  {
   "cell_type": "code",
   "execution_count": 103,
   "metadata": {},
   "outputs": [],
   "source": [
    "df = pd.read_csv(\"data.csv\").drop(columns=[\"Int\"]).drop(columns=[\"H_sun\"]).drop(columns=[\"WS10m\"]).rename(columns={\"G(i)\": \"Energy\", \"T2m\": \"Temperature\"})\n",
    "df[\"Time\"] = pd.to_datetime(df[\"time\"], format = \"%Y%m%d:%H%M\")"
   ]
  },
  {
   "cell_type": "code",
   "execution_count": 104,
   "metadata": {},
   "outputs": [],
   "source": [
    "# df[\"Time\"].resample(\"24H\")\n",
    "# df[\"Time\"] = df[\"Time\"].dt.strftime('%Y-%m-%d')\n",
    "# df[\"Time\"].to_json(\"labels.json\", orient=\"values\")"
   ]
  },
  {
   "cell_type": "code",
   "execution_count": 105,
   "metadata": {},
   "outputs": [],
   "source": [
    "df = df.set_index(\"Time\").drop(columns=[\"time\"])\n",
    "df_temperature = df.drop(columns=[\"Energy\"])\n",
    "df_energy = df.drop(columns=[\"Temperature\"])"
   ]
  },
  {
   "cell_type": "code",
   "execution_count": 106,
   "metadata": {},
   "outputs": [],
   "source": [
    "df_energy = df_energy.resample(\"24H\").sum().round(0).astype(int)\n",
    "df_temperature = df_temperature.resample(\"24H\").mean().round(1)\n"
   ]
  },
  {
   "cell_type": "code",
   "execution_count": 107,
   "metadata": {},
   "outputs": [],
   "source": [
    "json_energy = df_energy[\"Energy\"].to_json(orient=\"values\")\n",
    "json_temperature = df_temperature[\"Temperature\"].to_json(orient=\"values\")"
   ]
  },
  {
   "cell_type": "code",
   "execution_count": 110,
   "metadata": {},
   "outputs": [],
   "source": [
    "with open(\"../website/src/js/dataCombined.json\", \"w\") as writer:\n",
    "    writer.write(\n",
    "        f\"{{\\\"Energy\\\":{json_energy}, \\\"Temperature\\\":{json_temperature}}}\")\n"
   ]
  },
  {
   "cell_type": "code",
   "execution_count": 101,
   "metadata": {},
   "outputs": [],
   "source": [
    "# df_energy[\"Time\"] = df_energy.index.strftime('%Y-%m-%d')\n",
    "# df_energy[\"Time\"].to_json(\"../website/src/js/labels.json\", orient=\"values\")"
   ]
  },
  {
   "cell_type": "code",
   "execution_count": null,
   "metadata": {},
   "outputs": [],
   "source": []
  }
 ],
 "metadata": {
  "interpreter": {
   "hash": "82e034651c03b468b9f8178d34f7fa355e33e6d6a8a06fdb19e9bf3d2242c1ad"
  },
  "kernelspec": {
   "display_name": "Python 3.9.2 64-bit",
   "language": "python",
   "name": "python3"
  },
  "language_info": {
   "codemirror_mode": {
    "name": "ipython",
    "version": 3
   },
   "file_extension": ".py",
   "mimetype": "text/x-python",
   "name": "python",
   "nbconvert_exporter": "python",
   "pygments_lexer": "ipython3",
   "version": "3.9.2"
  },
  "orig_nbformat": 4
 },
 "nbformat": 4,
 "nbformat_minor": 2
}
