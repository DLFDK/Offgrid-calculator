{
 "cells": [
  {
   "cell_type": "code",
   "execution_count": 1,
   "metadata": {},
   "outputs": [],
   "source": [
    "import pandas as pd"
   ]
  },
  {
   "cell_type": "code",
   "execution_count": 2,
   "metadata": {},
   "outputs": [],
   "source": [
    "df = pd.read_csv(\"raw-data.csv\").drop(columns=[\"Int\"]).drop(columns=[\"H_sun\"]).drop(columns=[\"WS10m\"]).rename(columns={\"G(i)\": \"Energy\", \"T2m\": \"Temperature\"})\n",
    "df[\"Time\"] = pd.to_datetime(df[\"time\"], format = \"%Y%m%d:%H%M\")"
   ]
  },
  {
   "cell_type": "code",
   "execution_count": 3,
   "metadata": {},
   "outputs": [],
   "source": [
    "df = df.set_index(\"Time\").drop(columns=[\"time\"])\n",
    "df_temperature = df.drop(columns=[\"Energy\"])\n",
    "df_energy = df.drop(columns=[\"Temperature\"])"
   ]
  },
  {
   "cell_type": "code",
   "execution_count": 4,
   "metadata": {},
   "outputs": [],
   "source": [
    "df_energy = df_energy.resample(\"24H\").sum().round(0).astype(int)\n",
    "df_temperature = df_temperature.resample(\"24H\").mean().round(1)"
   ]
  },
  {
   "cell_type": "code",
   "execution_count": 6,
   "metadata": {},
   "outputs": [],
   "source": [
    "# Save daily data as csv for use elsewhere\n",
    "# df_energy[\"Temperature\"] = df_temperature\n",
    "# df_energy.to_csv(\"dailydata.csv\")"
   ]
  },
  {
   "cell_type": "code",
   "execution_count": 110,
   "metadata": {},
   "outputs": [],
   "source": [
    "json_energy = df_energy[\"Energy\"].to_json(orient=\"values\")\n",
    "json_temperature = df_temperature[\"Temperature\"].to_json(orient=\"values\")\n",
    "with open(\"../website/src/js/data.json\", \"w\") as writer:\n",
    "    writer.write(\n",
    "        f\"{{\\\"Energy\\\":{json_energy}, \\\"Temperature\\\":{json_temperature}}}\")"
   ]
  }
 ],
 "metadata": {
  "interpreter": {
   "hash": "82e034651c03b468b9f8178d34f7fa355e33e6d6a8a06fdb19e9bf3d2242c1ad"
  },
  "kernelspec": {
   "display_name": "Python 3.9.2 64-bit",
   "language": "python",
   "name": "python3"
  },
  "language_info": {
   "codemirror_mode": {
    "name": "ipython",
    "version": 3
   },
   "file_extension": ".py",
   "mimetype": "text/x-python",
   "name": "python",
   "nbconvert_exporter": "python",
   "pygments_lexer": "ipython3",
   "version": "3.9.2"
  },
  "orig_nbformat": 4
 },
 "nbformat": 4,
 "nbformat_minor": 2
}
